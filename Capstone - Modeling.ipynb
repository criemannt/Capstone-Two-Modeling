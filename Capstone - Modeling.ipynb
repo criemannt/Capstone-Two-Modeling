{
 "cells": [
  {
   "cell_type": "markdown",
   "id": "65fbd664",
   "metadata": {},
   "source": [
    "# Modeling\n",
    "in this project I'm completing step 5 of my capstone project where I need to:\n",
    "\n",
    "Build two to three different models and identify the best one.\n",
    "\n",
    "Fit your models with a training dataset\n",
    "\n",
    "Review model outcomes — Iterate over additional models as needed\n",
    "\n",
    "Identify the final model that you think is the best model for this project\n",
    "\n"
   ]
  },
  {
   "cell_type": "code",
   "execution_count": 1,
   "id": "9d992ead",
   "metadata": {},
   "outputs": [],
   "source": [
    "import pandas as pd\n",
    "import numpy as np\n",
    "import seaborn as sns\n",
    "import matplotlib.pyplot as plt\n",
    "from sklearn.model_selection import train_test_split\n",
    "from sklearn.preprocessing import StandardScaler\n",
    "from sklearn.linear_model import LinearRegression\n",
    "from sklearn.metrics import mean_squared_error\n",
    "import warnings\n",
    "warnings.simplefilter(action='ignore', category=FutureWarning)\n",
    "warnings.simplefilter(action='ignore', category=UserWarning)"
   ]
  },
  {
   "cell_type": "code",
   "execution_count": 2,
   "id": "a530bedd",
   "metadata": {},
   "outputs": [],
   "source": [
    "df = pd.read_excel(r'/Users/carlriemann/Documents/GitHub/Capstone-Two-Modeling/data_nba.xlsx')"
   ]
  },
  {
   "cell_type": "code",
   "execution_count": 3,
   "id": "2bbb6992",
   "metadata": {},
   "outputs": [
    {
     "data": {
      "text/plain": [
       "(2851, 30)"
      ]
     },
     "execution_count": 3,
     "metadata": {},
     "output_type": "execute_result"
    }
   ],
   "source": [
    "df.shape"
   ]
  },
  {
   "cell_type": "code",
   "execution_count": 4,
   "id": "37f6caa8",
   "metadata": {},
   "outputs": [
    {
     "name": "stdout",
     "output_type": "stream",
     "text": [
      "Index(['Player', 'Age', 'G', 'GS', 'MP', 'FG', 'FGA', 'FG%', '3P', '3PA',\n",
      "       '3P%', '2P', '2PA', '2P%', 'eFG%', 'FT', 'FTA', 'FT%', 'ORB', 'DRB',\n",
      "       'TRB', 'AST', 'STL', 'BLK', 'TOV', 'PF', 'PTS', 'Tm', 'Season', 'Pos'],\n",
      "      dtype='object')\n"
     ]
    }
   ],
   "source": [
    "print(df.columns)"
   ]
  },
  {
   "cell_type": "code",
   "execution_count": 5,
   "id": "992417b7",
   "metadata": {},
   "outputs": [
    {
     "name": "stdout",
     "output_type": "stream",
     "text": [
      "Player     object\n",
      "Age         int64\n",
      "G           int64\n",
      "GS          int64\n",
      "MP        float64\n",
      "FG        float64\n",
      "FGA       float64\n",
      "FG%       float64\n",
      "3P        float64\n",
      "3PA       float64\n",
      "3P%       float64\n",
      "2P        float64\n",
      "2PA       float64\n",
      "2P%       float64\n",
      "eFG%      float64\n",
      "FT        float64\n",
      "FTA       float64\n",
      "FT%       float64\n",
      "ORB       float64\n",
      "DRB       float64\n",
      "TRB       float64\n",
      "AST       float64\n",
      "STL       float64\n",
      "BLK       float64\n",
      "TOV       float64\n",
      "PF        float64\n",
      "PTS       float64\n",
      "Tm         object\n",
      "Season     object\n",
      "Pos        object\n",
      "dtype: object\n"
     ]
    }
   ],
   "source": [
    "print(df.dtypes)"
   ]
  },
  {
   "cell_type": "code",
   "execution_count": 6,
   "id": "c7ad6799",
   "metadata": {},
   "outputs": [],
   "source": [
    "#add ratings and aggregated measures\n",
    "df['Defensive_Rating'] = df['DRB'] + df['BLK'] + df['STL']\n",
    "df['Offensive_Rating'] = df['PTS'] + df['AST'] + (df['FG'] * 2) + (df['3P'] * 3) + df['FT']\n",
    "df['TS%'] = df['PTS'] / (2 * (df['FGA'] + 0.44 * df['FTA']))\n",
    "df['Simplified_PER'] = (df['PTS'] + df['TRB'] + df['AST'] + df['STL'] + df['BLK'] - (df['FGA'] - df['FG']) - (df['FTA'] - df['FT']) - df['TOV']) / df['MP']"
   ]
  },
  {
   "cell_type": "code",
   "execution_count": 7,
   "id": "4b181a98",
   "metadata": {},
   "outputs": [
    {
     "name": "stdout",
     "output_type": "stream",
     "text": [
      "[2019 2020 2021 2022 2023]\n"
     ]
    }
   ],
   "source": [
    "#changing seasons format from 2019-2020 to only 2019\n",
    "df['Season'] = df['Season'].apply(lambda x: x.split('-')[0])\n",
    "\n",
    "# converting season to numeric data\n",
    "df['Season'] = df['Season'].astype(int)\n",
    "\n",
    "print(df['Season'].unique())"
   ]
  },
  {
   "cell_type": "code",
   "execution_count": 8,
   "id": "48a5b165",
   "metadata": {},
   "outputs": [],
   "source": [
    "#replacing Unknown player positions\n",
    "most_common_pos = df['Pos'].mode()[0]\n",
    "df['Pos'] = df['Pos'].replace('Unknown', most_common_pos)"
   ]
  },
  {
   "cell_type": "code",
   "execution_count": 9,
   "id": "f004ddb0",
   "metadata": {},
   "outputs": [],
   "source": [
    "#separate year 2023 (season2023-2024) to act as proxy to test predictions, as there is no data for the future season\n",
    "test_data_2023 = df[df['Season'] == 2023]"
   ]
  },
  {
   "cell_type": "markdown",
   "id": "98dac438",
   "metadata": {},
   "source": [
    "The main goal of this step is to clean, transform, and split the data so that it is ready for training machine learning models. I want to build a Player Performance Prediction model, or a Game Impact Prediction model. On this next step I create an aggregated df. "
   ]
  },
  {
   "cell_type": "code",
   "execution_count": 10,
   "id": "49c9a67c",
   "metadata": {
    "scrolled": true
   },
   "outputs": [
    {
     "name": "stdout",
     "output_type": "stream",
     "text": [
      "                Player        Age      G     GS         MP        FG  \\\n",
      "0         Aaron Gordon  25.500000  44.00  44.00  32.250000  5.275000   \n",
      "2        Aaron Holiday  24.666667  37.00  11.50  16.183333  2.233333   \n",
      "5          Abdel Nader  27.000000  27.00   2.00  13.500000  1.900000   \n",
      "8    Admiral Schofield  23.000000  35.50   1.50  11.750000  1.250000   \n",
      "10          Al Horford  34.500000  43.75  42.25  29.600000  4.300000   \n",
      "..                 ...        ...    ...    ...        ...       ...   \n",
      "807       Yogi Ferrell  26.500000  26.00   0.00  15.300000  2.800000   \n",
      "808      Yuta Watanabe  26.500000  18.75   1.00   8.725000  1.075000   \n",
      "810       Zach Collins  23.000000  19.50   7.50  22.150000  2.800000   \n",
      "812       Zach Norvell  22.000000   2.50   0.00   7.250000  0.500000   \n",
      "818     Zylan Cheatham  25.000000   2.50   0.00   8.900000  0.750000   \n",
      "\n",
      "           FGA     FG%        3P       3PA  ...        PF        PTS  \\\n",
      "0    11.125000  0.4755  1.225000  3.500000  ...  2.225000  14.125000   \n",
      "2     5.383333  0.3515  0.716667  1.883333  ...  1.333333   6.016667   \n",
      "5     4.166667  0.4370  0.666667  1.800000  ...  1.300000   5.300000   \n",
      "8     3.100000  0.3995  0.650000  1.950000  ...  1.500000   3.400000   \n",
      "10    9.600000  0.4390  1.600000  4.550000  ...  2.025000  10.875000   \n",
      "..         ...     ...       ...       ...  ...       ...        ...   \n",
      "807   7.150000  0.4005  1.000000  3.050000  ...  1.400000   6.950000   \n",
      "808   2.575000  0.4250  0.650000  1.525000  ...  0.650000   3.100000   \n",
      "810   5.850000  0.4805  0.550000  1.600000  ...  2.850000   7.400000   \n",
      "812   2.100000  0.1365  0.500000  1.350000  ...  0.650000   1.650000   \n",
      "818   2.650000  0.3335  0.000000  1.150000  ...  1.250000   1.500000   \n",
      "\n",
      "          Season  Defensive_Rating  Offensive_Rating       TS%  \\\n",
      "0    2020.500000          6.150000         34.000000  0.557961   \n",
      "2    2020.666667          1.983333         15.766667  0.521460   \n",
      "5    2020.000000          2.600000         12.633333  0.544300   \n",
      "8    2020.000000          1.800000          8.750000  0.514004   \n",
      "10   2020.500000          7.850000         28.525000  0.540687   \n",
      "..           ...               ...               ...       ...   \n",
      "807  2019.500000          2.700000         17.850000  0.482026   \n",
      "808  2020.500000          2.050000          7.825000  0.512452   \n",
      "810  2020.000000          5.050000         17.700000  0.568347   \n",
      "812  2019.000000          1.450000          4.800000  0.215292   \n",
      "818  2020.000000          1.050000          3.400000  0.326087   \n",
      "\n",
      "     Simplified_PER  Seasons_Played             Unique_Teams  Unique_Positions  \n",
      "0          0.516293               4                 ORL, DEN                PF  \n",
      "2          0.339924               4  IND, TOT, WAS, PHO, ATL                PG  \n",
      "5          0.393121               3                 OKC, PHO                SF  \n",
      "8          0.313190               2                 WAS, ORL            PF, SF  \n",
      "10         0.579739               4            PHI, OKC, BOS                 C  \n",
      "..              ...             ...                      ...               ...  \n",
      "807        0.420047               2                 SAC, CLE                PG  \n",
      "808        0.323068               4            MEM, TOR, BRK                SF  \n",
      "810        0.543529               2                 POR, SAS             C, PF  \n",
      "812        0.125000               1                 GSW, LAL                SG  \n",
      "818       -0.108594               2                 NOP, UTA                SF  \n",
      "\n",
      "[356 rows x 35 columns]\n"
     ]
    }
   ],
   "source": [
    "#creating an aggregated df of scores and seasons without season 2023 (season 2023 will be used as test)\n",
    "df_filtered = df[df['Season'] != 2023]\n",
    "\n",
    "#aggregate player data excluding 2023, and calculate the mean for numerical columns\n",
    "player_stats = df_filtered.groupby('Player').agg({col: 'mean' for col in df_filtered.columns if df_filtered[col].dtype in ['float64', 'int64']})\n",
    "\n",
    "#count the number of unique seasons each player appears in, excluding season 2023\n",
    "player_stats['Seasons_Played'] = df_filtered.groupby('Player')['Season'].nunique()\n",
    "\n",
    "#create columns for unique teams and positions\n",
    "unique_teams = df_filtered.groupby('Player')['Tm'].agg(lambda x: ', '.join(x.unique()))\n",
    "unique_positions = df_filtered.groupby('Player')['Pos'].agg(lambda x: ', '.join(x.unique()))\n",
    "player_stats['Unique_Teams'] = unique_teams\n",
    "player_stats['Unique_Positions'] = unique_positions\n",
    "\n",
    "#reset index to bring 'Player' back as a column\n",
    "player_stats.reset_index(inplace=True)\n",
    "\n",
    "#check\n",
    "players_multiple_teams = player_stats[player_stats['Unique_Teams'].apply(lambda x: len(x.split(', ')) > 1)]\n",
    "print(players_multiple_teams)"
   ]
  },
  {
   "cell_type": "code",
   "execution_count": 11,
   "id": "db1a192a",
   "metadata": {},
   "outputs": [
    {
     "name": "stdout",
     "output_type": "stream",
     "text": [
      "Player               object\n",
      "Age                 float64\n",
      "G                   float64\n",
      "GS                  float64\n",
      "MP                  float64\n",
      "FG                  float64\n",
      "FGA                 float64\n",
      "FG%                 float64\n",
      "3P                  float64\n",
      "3PA                 float64\n",
      "3P%                 float64\n",
      "2P                  float64\n",
      "2PA                 float64\n",
      "2P%                 float64\n",
      "eFG%                float64\n",
      "FT                  float64\n",
      "FTA                 float64\n",
      "FT%                 float64\n",
      "ORB                 float64\n",
      "DRB                 float64\n",
      "TRB                 float64\n",
      "AST                 float64\n",
      "STL                 float64\n",
      "BLK                 float64\n",
      "TOV                 float64\n",
      "PF                  float64\n",
      "PTS                 float64\n",
      "Season              float64\n",
      "Defensive_Rating    float64\n",
      "Offensive_Rating    float64\n",
      "TS%                 float64\n",
      "Simplified_PER      float64\n",
      "Seasons_Played        int64\n",
      "Unique_Teams         object\n",
      "Unique_Positions     object\n",
      "dtype: object\n",
      "(819, 35)\n",
      "Player               object\n",
      "Age                   int64\n",
      "G                     int64\n",
      "GS                    int64\n",
      "MP                  float64\n",
      "FG                  float64\n",
      "FGA                 float64\n",
      "FG%                 float64\n",
      "3P                  float64\n",
      "3PA                 float64\n",
      "3P%                 float64\n",
      "2P                  float64\n",
      "2PA                 float64\n",
      "2P%                 float64\n",
      "eFG%                float64\n",
      "FT                  float64\n",
      "FTA                 float64\n",
      "FT%                 float64\n",
      "ORB                 float64\n",
      "DRB                 float64\n",
      "TRB                 float64\n",
      "AST                 float64\n",
      "STL                 float64\n",
      "BLK                 float64\n",
      "TOV                 float64\n",
      "PF                  float64\n",
      "PTS                 float64\n",
      "Tm                   object\n",
      "Season                int64\n",
      "Pos                  object\n",
      "Defensive_Rating    float64\n",
      "Offensive_Rating    float64\n",
      "TS%                 float64\n",
      "Simplified_PER      float64\n",
      "dtype: object\n",
      "(2851, 34)\n"
     ]
    }
   ],
   "source": [
    "print(player_stats.dtypes)\n",
    "print(player_stats.shape)\n",
    "print(df.dtypes)\n",
    "print(df.shape)"
   ]
  },
  {
   "cell_type": "code",
   "execution_count": 12,
   "id": "4d54e0e5",
   "metadata": {},
   "outputs": [
    {
     "data": {
      "text/plain": [
       "(819, 35)"
      ]
     },
     "execution_count": 12,
     "metadata": {},
     "output_type": "execute_result"
    }
   ],
   "source": [
    "#adding columns that represent performance ratings\n",
    "\n",
    "player_stats['Defensive_Rating'] = player_stats['DRB'] + player_stats['BLK'] + player_stats['STL']\n",
    "\n",
    "\n",
    "player_stats['Offensive_Rating'] = player_stats['PTS'] + player_stats['AST'] + (player_stats['FG'] * 2) + (player_stats['3P'] * 3) + player_stats['FT']\n",
    "\n",
    "\n",
    "player_stats['TS%'] = player_stats['PTS'] / (2 * (player_stats['FGA'] + 0.44 * player_stats['FTA']))\n",
    "\n",
    "#PER (player's per-minute performance) is a measurement created by John Hollinger's\n",
    "player_stats['Simplified_PER'] = (player_stats['PTS'] + player_stats['TRB'] + player_stats['AST'] + player_stats['STL'] + player_stats['BLK']\n",
    "                        - (player_stats['FGA'] - player_stats['FG']) - (player_stats['FTA'] - player_stats['FT']) - player_stats['TOV']) / player_stats['MP']\n",
    "\n",
    "player_stats.shape"
   ]
  },
  {
   "cell_type": "code",
   "execution_count": 13,
   "id": "87ad8a9c",
   "metadata": {},
   "outputs": [
    {
     "name": "stdout",
     "output_type": "stream",
     "text": [
      "True\n"
     ]
    }
   ],
   "source": [
    "has_nans = player_stats.isnull().values.any()\n",
    "print(has_nans)"
   ]
  },
  {
   "cell_type": "code",
   "execution_count": 14,
   "id": "018e90a4",
   "metadata": {},
   "outputs": [
    {
     "name": "stdout",
     "output_type": "stream",
     "text": [
      "Percentage of NaN values per column:\n",
      "Player              0.000000\n",
      "Age                 0.000000\n",
      "G                   0.000000\n",
      "GS                  0.000000\n",
      "MP                  0.000000\n",
      "FG                  0.000000\n",
      "FGA                 0.000000\n",
      "FG%                 0.000000\n",
      "3P                  0.000000\n",
      "3PA                 0.000000\n",
      "3P%                 0.000000\n",
      "2P                  0.000000\n",
      "2PA                 0.000000\n",
      "2P%                 0.000000\n",
      "eFG%                0.000000\n",
      "FT                  0.000000\n",
      "FTA                 0.000000\n",
      "FT%                 0.000000\n",
      "ORB                 0.000000\n",
      "DRB                 0.000000\n",
      "TRB                 0.000000\n",
      "AST                 0.000000\n",
      "STL                 0.000000\n",
      "BLK                 0.000000\n",
      "TOV                 0.000000\n",
      "PF                  0.000000\n",
      "PTS                 0.000000\n",
      "Season              0.000000\n",
      "Defensive_Rating    0.000000\n",
      "Offensive_Rating    0.000000\n",
      "TS%                 1.343101\n",
      "Simplified_PER      0.000000\n",
      "Seasons_Played      0.000000\n",
      "Unique_Teams        0.000000\n",
      "Unique_Positions    0.000000\n",
      "dtype: float64\n"
     ]
    }
   ],
   "source": [
    "total_rows = len(player_stats)\n",
    "nan_percentages = (player_stats.isnull().sum() / total_rows) * 100\n",
    "print(\"Percentage of NaN values per column:\")\n",
    "print(nan_percentages)"
   ]
  },
  {
   "cell_type": "code",
   "execution_count": 15,
   "id": "2bc0c8bc",
   "metadata": {
    "scrolled": true
   },
   "outputs": [
    {
     "name": "stdout",
     "output_type": "stream",
     "text": [
      "                Player   Age    G   GS   MP   FG  FGA  FG%   3P  3PA  ...  \\\n",
      "7           Ade Murkey  24.0  1.0  0.0  1.0  0.0  0.0  0.0  0.0  0.0  ...   \n",
      "42       Ashton Hagans  21.0  2.0  0.0  2.0  0.0  0.0  0.0  0.0  0.0  ...   \n",
      "171      DeJon Jarreau  24.0  1.0  0.0  1.0  0.0  0.0  0.0  0.0  0.0  ...   \n",
      "305        J.P. Macura  24.0  1.0  0.0  1.0  0.0  0.0  0.0  0.0  0.0  ...   \n",
      "322    Jaime Echenique  24.0  1.0  0.0  3.0  0.0  0.0  0.0  0.0  0.0  ...   \n",
      "327       Jalen Harris  22.0  2.0  0.0  2.0  0.0  0.0  0.0  0.0  0.0  ...   \n",
      "352      Jason Preston  23.0  1.0  0.0  1.0  0.0  0.0  0.0  0.0  0.0  ...   \n",
      "353    Javin DeLaurier  23.0  1.0  0.0  3.0  0.0  0.0  0.0  0.0  0.0  ...   \n",
      "682         Sam Dekker  27.0  1.0  0.0  1.0  0.0  0.0  0.0  0.0  0.0  ...   \n",
      "768         Tyler Hall  24.0  1.0  0.0  2.0  0.0  0.0  0.0  0.0  0.0  ...   \n",
      "793  Wendell Moore Jr.  21.0  1.0  0.0  2.0  0.0  0.0  0.0  0.0  0.0  ...   \n",
      "\n",
      "      PF  PTS  Season  Defensive_Rating  Offensive_Rating  TS%  \\\n",
      "7    0.0  0.0  2021.0               0.0               0.0  NaN   \n",
      "42   0.0  0.0  2020.0               0.0               0.0  NaN   \n",
      "171  0.0  0.0  2021.0               0.0               0.0  NaN   \n",
      "305  0.0  0.0  2019.0               0.0               0.0  NaN   \n",
      "322  0.0  0.0  2021.0               0.0               0.0  NaN   \n",
      "327  1.0  0.0  2020.0               0.0               0.0  NaN   \n",
      "352  0.0  0.0  2022.0               0.0               0.0  NaN   \n",
      "353  1.0  0.0  2021.0               2.0               0.0  NaN   \n",
      "682  0.0  0.0  2021.0               0.0               0.0  NaN   \n",
      "768  0.0  0.0  2021.0               0.0               0.0  NaN   \n",
      "793  0.0  0.0  2022.0               0.0               0.0  NaN   \n",
      "\n",
      "     Simplified_PER  Seasons_Played  Unique_Teams  Unique_Positions  \n",
      "7          0.000000               1           SAC                SG  \n",
      "42        -0.250000               1           MIN                PG  \n",
      "171        0.000000               1           IND                SG  \n",
      "305        0.000000               1           CLE                SG  \n",
      "322        0.000000               1           WAS                 C  \n",
      "327        0.000000               1           TOR                SG  \n",
      "352        0.000000               1           LAC                PG  \n",
      "353        0.666667               1           MIL                 C  \n",
      "682        0.000000               1           TOR                PF  \n",
      "768        0.000000               1           NYK                SG  \n",
      "793       -0.500000               1           MIN                SG  \n",
      "\n",
      "[11 rows x 35 columns]\n"
     ]
    }
   ],
   "source": [
    "nan_rows = player_stats[player_stats['TS%'].isnull()]\n",
    "print(nan_rows)"
   ]
  },
  {
   "cell_type": "code",
   "execution_count": 16,
   "id": "bc18112f",
   "metadata": {},
   "outputs": [
    {
     "name": "stdout",
     "output_type": "stream",
     "text": [
      "0\n"
     ]
    }
   ],
   "source": [
    "from sklearn.impute import SimpleImputer\n",
    "\n",
    "imputer = SimpleImputer(strategy='mean')\n",
    "\n",
    "#Apply imputer to the 'TS%' column\n",
    "player_stats['TS%'] = imputer.fit_transform(player_stats[['TS%']])\n",
    "\n",
    "#Check if any NaNs remain\n",
    "print(player_stats['TS%'].isnull().sum())"
   ]
  },
  {
   "cell_type": "markdown",
   "id": "3237f18e",
   "metadata": {},
   "source": [
    "# Testing models for Numerical Features"
   ]
  },
  {
   "cell_type": "markdown",
   "id": "94a2601b",
   "metadata": {},
   "source": [
    "# Random Forest"
   ]
  },
  {
   "cell_type": "code",
   "execution_count": 17,
   "id": "fa6e1149",
   "metadata": {},
   "outputs": [
    {
     "name": "stdout",
     "output_type": "stream",
     "text": [
      "Random Forest Validation MSE: 0.30602770415399777\n",
      "Random Forest Test MSE: 0.4661206294955582\n"
     ]
    }
   ],
   "source": [
    "from sklearn.model_selection import train_test_split\n",
    "from sklearn.ensemble import RandomForestRegressor\n",
    "from sklearn.metrics import mean_squared_error\n",
    "from sklearn.preprocessing import StandardScaler\n",
    "\n",
    "#Define features and target\n",
    "features = ['Age', 'G', 'GS', 'MP', 'FG%', '3P%', '2P%', 'FT%', 'Defensive_Rating', 'Offensive_Rating', 'TS%', 'Simplified_PER']\n",
    "X = player_stats[features]\n",
    "y = player_stats['PTS']  # Target variable\n",
    "\n",
    "#Using imputer to resolve NaN errors and using scaler\n",
    "imputer = SimpleImputer(strategy='mean') \n",
    "scaler = StandardScaler()\n",
    "\n",
    "#Impute and scale the training data\n",
    "X_imputed = imputer.fit_transform(X)\n",
    "X_scaled = scaler.fit_transform(X_imputed)\n",
    "\n",
    "X_train, X_val, y_train, y_val = train_test_split(X_scaled, y, test_size=0.2, random_state=42)\n",
    "\n",
    "#Random Forest regression\n",
    "model = RandomForestRegressor(n_estimators=100, random_state=42)\n",
    "model.fit(X_train, y_train)\n",
    "\n",
    "#Validate the model\n",
    "y_pred = model.predict(X_val)\n",
    "mse = mean_squared_error(y_val, y_pred)\n",
    "print(\"Random Forest Validation MSE:\", mse)\n",
    "\n",
    "#Prepare the 2023 data for testing\n",
    "test_data = df[df['Season'] == 2023][features]\n",
    "test_data_imputed = imputer.transform(test_data)  # Impute the test data using the already fitted imputer\n",
    "test_data_scaled = scaler.transform(test_data_imputed)  # Scale the imputed test data using the already fitted scaler\n",
    "y_test = df[df['Season'] == 2023]['PTS']\n",
    "\n",
    "#Test the model\n",
    "y_test_pred = model.predict(test_data_scaled)\n",
    "test_mse = mean_squared_error(y_test, y_test_pred)\n",
    "print(\"Random Forest Test MSE:\", test_mse)"
   ]
  },
  {
   "cell_type": "markdown",
   "id": "c107cab8",
   "metadata": {},
   "source": [
    "# Gradient Boosting"
   ]
  },
  {
   "cell_type": "code",
   "execution_count": 18,
   "id": "176c4a70",
   "metadata": {},
   "outputs": [
    {
     "name": "stdout",
     "output_type": "stream",
     "text": [
      "Gradient Boosting Validation MSE: 0.289258683176696\n",
      "Gradient Boosting Test MSE: 0.4406182999368603\n"
     ]
    }
   ],
   "source": [
    "from sklearn.ensemble import GradientBoostingRegressor\n",
    "\n",
    "\n",
    "#initialize model\n",
    "gb_model = GradientBoostingRegressor(n_estimators=200, learning_rate=0.1, max_depth=3, random_state=42)\n",
    "\n",
    "#fit the model on the training data\n",
    "gb_model.fit(X_train, y_train)\n",
    "\n",
    "#Predict on the validation set\n",
    "y_pred_gb_val = gb_model.predict(X_val)\n",
    "mse_gb_val = mean_squared_error(y_val, y_pred_gb_val)\n",
    "print(\"Gradient Boosting Validation MSE:\", mse_gb_val)\n",
    "\n",
    "#Predict on the test set\n",
    "y_pred_gb_test = gb_model.predict(test_data_scaled)\n",
    "mse_gb_test = mean_squared_error(y_test, y_pred_gb_test)\n",
    "print(\"Gradient Boosting Test MSE:\", mse_gb_test)"
   ]
  },
  {
   "cell_type": "markdown",
   "id": "201fc776",
   "metadata": {},
   "source": [
    "# Linear Regression"
   ]
  },
  {
   "cell_type": "code",
   "execution_count": 19,
   "id": "7542b168",
   "metadata": {},
   "outputs": [
    {
     "name": "stdout",
     "output_type": "stream",
     "text": [
      "Linear Regression Validation MSE: 0.22233547038612547\n",
      "Linear Regression Test MSE: 0.29070533581975067\n"
     ]
    }
   ],
   "source": [
    "from sklearn.linear_model import LinearRegression\n",
    "\n",
    "#start model\n",
    "lr_model = LinearRegression()\n",
    "\n",
    "#fit model on training\n",
    "lr_model.fit(X_train, y_train)\n",
    "\n",
    "#predict Validate set\n",
    "y_pred_lr_val = lr_model.predict(X_val)\n",
    "mse_lr_val = mean_squared_error(y_val, y_pred_lr_val)\n",
    "print(\"Linear Regression Validation MSE:\", mse_lr_val)\n",
    "\n",
    "#predict Test set\n",
    "y_pred_lr_test = lr_model.predict(test_data_scaled)\n",
    "mse_lr_test = mean_squared_error(y_test, y_pred_lr_test)\n",
    "print(\"Linear Regression Test MSE:\", mse_lr_test)"
   ]
  },
  {
   "cell_type": "markdown",
   "id": "83206e1b",
   "metadata": {},
   "source": [
    "# Testing other models learned"
   ]
  },
  {
   "cell_type": "markdown",
   "id": "1f6d396c",
   "metadata": {},
   "source": [
    "# KNN"
   ]
  },
  {
   "cell_type": "code",
   "execution_count": 20,
   "id": "0362b6f2",
   "metadata": {},
   "outputs": [
    {
     "name": "stdout",
     "output_type": "stream",
     "text": [
      "KNN Validation MSE: 1.9664591102227478\n",
      "KNN Test MSE: 3.781453897150879\n"
     ]
    }
   ],
   "source": [
    "from sklearn.neighbors import KNeighborsRegressor\n",
    "\n",
    "#start the KNN model\n",
    "knn_model = KNeighborsRegressor(n_neighbors=5)\n",
    "\n",
    "#fit the model on training\n",
    "knn_model.fit(X_train, y_train)\n",
    "\n",
    "#predict on validation set\n",
    "y_pred_knn_val = knn_model.predict(X_val)\n",
    "mse_knn_val = mean_squared_error(y_val, y_pred_knn_val)\n",
    "print(\"KNN Validation MSE:\", mse_knn_val)\n",
    "\n",
    "#predict on test set\n",
    "y_pred_knn_test = knn_model.predict(test_data_scaled)\n",
    "mse_knn_test = mean_squared_error(y_test, y_pred_knn_test)\n",
    "print(\"KNN Test MSE:\", mse_knn_test)"
   ]
  },
  {
   "cell_type": "markdown",
   "id": "5daf541b",
   "metadata": {},
   "source": [
    "# Support Vector"
   ]
  },
  {
   "cell_type": "code",
   "execution_count": 21,
   "id": "b3aa0416",
   "metadata": {},
   "outputs": [
    {
     "name": "stdout",
     "output_type": "stream",
     "text": [
      "SVM Validation MSE: 3.436827706689167\n",
      "SVM Test MSE: 6.242649409192381\n"
     ]
    }
   ],
   "source": [
    "from sklearn.svm import SVR\n",
    "\n",
    "#start the SVM model\n",
    "svm_model = SVR(kernel='rbf')\n",
    "\n",
    "#fit the model training\n",
    "svm_model.fit(X_train, y_train)\n",
    "\n",
    "#predict on the validation set\n",
    "y_pred_svm_val = svm_model.predict(X_val)\n",
    "mse_svm_val = mean_squared_error(y_val, y_pred_svm_val)\n",
    "print(\"SVM Validation MSE:\", mse_svm_val)\n",
    "\n",
    "#predict on the test set\n",
    "y_pred_svm_test = svm_model.predict(test_data_scaled)\n",
    "mse_svm_test = mean_squared_error(y_test, y_pred_svm_test)\n",
    "print(\"SVM Test MSE:\", mse_svm_test)"
   ]
  },
  {
   "cell_type": "markdown",
   "id": "c77b4ba3",
   "metadata": {},
   "source": [
    "# Naive Bayes"
   ]
  },
  {
   "cell_type": "code",
   "execution_count": 22,
   "id": "90a956c3",
   "metadata": {},
   "outputs": [
    {
     "name": "stdout",
     "output_type": "stream",
     "text": [
      "Naive Bayes Validation Accuracy: 0.8963414634146342\n",
      "Naive Bayes Test Accuracy: 0.8612244897959184\n"
     ]
    }
   ],
   "source": [
    "from sklearn.preprocessing import KBinsDiscretizer\n",
    "\n",
    "#start the discretizer\n",
    "disc = KBinsDiscretizer(n_bins=3, encode='ordinal', strategy='uniform')\n",
    "\n",
    "#fit and transform the target variable\n",
    "y_train_binned = disc.fit_transform(y_train.values.reshape(-1, 1)).ravel()\n",
    "y_val_binned = disc.transform(y_val.values.reshape(-1, 1)).ravel()  # Transform validation set similarly\n",
    "\n",
    "#transform test set\n",
    "y_test_binned = disc.transform(y_test.values.reshape(-1, 1)).ravel()\n",
    "\n",
    "#fit Naive Bayes\n",
    "from sklearn.naive_bayes import GaussianNB\n",
    "from sklearn.metrics import accuracy_score\n",
    "\n",
    "#start the Naive Bayes model\n",
    "nb_model = GaussianNB()\n",
    "\n",
    "#fit the model on the training data\n",
    "nb_model.fit(X_train, y_train_binned)\n",
    "\n",
    "# Predict on the validation set\n",
    "y_pred_nb_val = nb_model.predict(X_val)\n",
    "accuracy_nb_val = accuracy_score(y_val_binned, y_pred_nb_val)\n",
    "print(\"Naive Bayes Validation Accuracy:\", accuracy_nb_val)\n",
    "\n",
    "# Predict on the test set\n",
    "y_pred_nb_test = nb_model.predict(test_data_scaled)\n",
    "accuracy_nb_test = accuracy_score(y_test_binned, y_pred_nb_test)\n",
    "print(\"Naive Bayes Test Accuracy:\", accuracy_nb_test)"
   ]
  },
  {
   "cell_type": "markdown",
   "id": "bc0c3d67",
   "metadata": {},
   "source": [
    "# Graphs of all Model Results"
   ]
  },
  {
   "cell_type": "code",
   "execution_count": 23,
   "id": "0451becf",
   "metadata": {},
   "outputs": [
    {
     "ename": "NameError",
     "evalue": "name 'autolabel' is not defined",
     "output_type": "error",
     "traceback": [
      "\u001b[0;31m---------------------------------------------------------------------------\u001b[0m",
      "\u001b[0;31mNameError\u001b[0m                                 Traceback (most recent call last)",
      "Cell \u001b[0;32mIn[23], line 32\u001b[0m\n\u001b[1;32m     25\u001b[0m         \u001b[38;5;28;01mif\u001b[39;00m \u001b[38;5;129;01mnot\u001b[39;00m np\u001b[38;5;241m.\u001b[39misnan(height):\n\u001b[1;32m     26\u001b[0m             ax\u001b[38;5;241m.\u001b[39mannotate(\u001b[38;5;124m'\u001b[39m\u001b[38;5;132;01m{}\u001b[39;00m\u001b[38;5;124m'\u001b[39m\u001b[38;5;241m.\u001b[39mformat(\u001b[38;5;28mround\u001b[39m(height, \u001b[38;5;241m4\u001b[39m)),\n\u001b[1;32m     27\u001b[0m                         xy\u001b[38;5;241m=\u001b[39m(rect\u001b[38;5;241m.\u001b[39mget_x() \u001b[38;5;241m+\u001b[39m rect\u001b[38;5;241m.\u001b[39mget_width() \u001b[38;5;241m/\u001b[39m \u001b[38;5;241m2\u001b[39m, height),\n\u001b[1;32m     28\u001b[0m                         xytext\u001b[38;5;241m=\u001b[39m(\u001b[38;5;241m0\u001b[39m, \u001b[38;5;241m3\u001b[39m),\n\u001b[1;32m     29\u001b[0m                         textcoords\u001b[38;5;241m=\u001b[39m\u001b[38;5;124m\"\u001b[39m\u001b[38;5;124moffset points\u001b[39m\u001b[38;5;124m\"\u001b[39m,\n\u001b[1;32m     30\u001b[0m                         ha\u001b[38;5;241m=\u001b[39m\u001b[38;5;124m'\u001b[39m\u001b[38;5;124mcenter\u001b[39m\u001b[38;5;124m'\u001b[39m, va\u001b[38;5;241m=\u001b[39m\u001b[38;5;124m'\u001b[39m\u001b[38;5;124mbottom\u001b[39m\u001b[38;5;124m'\u001b[39m)\n\u001b[0;32m---> 32\u001b[0m autolabel(rects1)\n\u001b[1;32m     33\u001b[0m autolabel(rects2)\n\u001b[1;32m     35\u001b[0m fig\u001b[38;5;241m.\u001b[39mtight_layout()\n",
      "\u001b[0;31mNameError\u001b[0m: name 'autolabel' is not defined"
     ]
    },
    {
     "data": {
      "image/png": "[encoded data removed]",
      "text/plain": [
       "<Figure size 1200x800 with 1 Axes>"
      ]
     },
     "metadata": {},
     "output_type": "display_data"
    }
   ],
   "source": [
    "models = ['Random Forest', 'Gradient Boosting', 'Linear Regression', 'KNN', 'SVM', 'Naive Bayes']\n",
    "validation_mse = [0.3060, 0.2893, 0.2223, 1.9665, 3.4368, np.nan]  # Naive Bayes uses accuracy, so I leave it as NaN\n",
    "test_mse = [0.4661, 0.4406, 0.2907, 3.7815, 6.2426, np.nan]\n",
    "index = np.arange(len(models))\n",
    "bar_width = 0.35\n",
    "\n",
    "#plot\n",
    "fig, ax = plt.subplots(figsize=(12, 8))\n",
    "rects1 = ax.bar(index - bar_width/2, validation_mse, bar_width, label='Validation MSE', color='b', alpha=0.6)\n",
    "rects2 = ax.bar(index + bar_width/2, test_mse, bar_width, label='Test MSE', color='r', alpha=0.6)\n",
    "\n",
    "#Add labels, title, and custom x-axis tick labels, etc.\n",
    "ax.set_xlabel('Models', fontsize=14)\n",
    "ax.set_ylabel('MSE Scores', fontsize=14)\n",
    "ax.set_title('Comparison of Model MSE Scores by Validation and Test', fontsize=16)\n",
    "ax.set_xticks(index)\n",
    "ax.set_xticklabels(models, rotation=45)\n",
    "ax.legend()\n",
    "\n",
    "#Function to add label on top of each bar\n",
    "def label(rects):\n",
    "    \"\"\"Attach a text label above each bar in *rects*, displaying its height.\"\"\"\n",
    "    for rect in rects:\n",
    "        height = rect.get_height()\n",
    "        if not np.isnan(height):\n",
    "            ax.annotate('{}'.format(round(height, 4)),\n",
    "                        xy=(rect.get_x() + rect.get_width() / 2, height),\n",
    "                        xytext=(0, 3),\n",
    "                        textcoords=\"offset points\",\n",
    "                        ha='center', va='bottom')\n",
    "\n",
    "autolabel(rects1)\n",
    "autolabel(rects2)\n",
    "\n",
    "fig.tight_layout()\n",
    "plt.show()"
   ]
  },
  {
   "cell_type": "markdown",
   "id": "ebeaabc3",
   "metadata": {},
   "source": [
    "# Gradient Boosting Improvements"
   ]
  },
  {
   "cell_type": "code",
   "execution_count": null,
   "id": "b3cefd2b",
   "metadata": {},
   "outputs": [],
   "source": [
    "#Here we are improving the best parameters for Gradient Bosting"
   ]
  },
  {
   "cell_type": "code",
   "execution_count": null,
   "id": "bbfe7633",
   "metadata": {},
   "outputs": [],
   "source": [
    "from sklearn.ensemble import GradientBoostingRegressor\n",
    "from sklearn.model_selection import GridSearchCV\n",
    "#Define parameter grid\n",
    "param_grid = {\n",
    "    'n_estimators': [100, 200, 300, 400],\n",
    "    'learning_rate': [0.01, 0.05, 0.1, 0.2],\n",
    "    'max_depth': [3, 4, 5, 6],\n",
    "    'min_samples_split': [2, 5, 10],\n",
    "    'min_samples_leaf': [1, 2, 4]\n",
    "}\n",
    "\n",
    "#start GradientBoostingRegressor\n",
    "gb_model = GradientBoostingRegressor(random_state=42)\n",
    "\n",
    "#start GridSearchCV\n",
    "grid_search = GridSearchCV(estimator=gb_model, param_grid=param_grid, cv=3, scoring='neg_mean_squared_error', n_jobs=-1, verbose=2)\n",
    "\n",
    "#fit GridSearchCV\n",
    "grid_search.fit(X_train, y_train)\n",
    "\n",
    "# Best parameters and best score\n",
    "print(\"Best parameters found: \", grid_search.best_params_)\n",
    "print(\"Best cross-validation score (MSE): \", -grid_search.best_score_)\n",
    "\n"
   ]
  },
  {
   "cell_type": "code",
   "execution_count": null,
   "id": "c5cb7381",
   "metadata": {},
   "outputs": [],
   "source": [
    "from sklearn.model_selection import cross_val_score\n",
    "\n",
    "#Cross-validation to select the best model\n",
    "best_gb_model = grid_search.best_estimator_\n",
    "cv_scores = cross_val_score(best_gb_model, X_scaled, y, cv=5, scoring='neg_mean_squared_error')\n",
    "\n",
    "print(\"Cross-validation MSE scores:\", -cv_scores)\n",
    "print(\"Mean CV MSE:\", -cv_scores.mean())\n",
    "print(\"Standard deviation in CV MSE:\", cv_scores.std())"
   ]
  },
  {
   "cell_type": "code",
   "execution_count": null,
   "id": "0cd5de3a",
   "metadata": {},
   "outputs": [],
   "source": [
    "#setting best parameters and retesting using gradient boosting\n",
    "\n",
    "features = ['Age', 'G', 'GS', 'MP', 'FG%', '3P%', '2P%', 'FT%', 'Defensive_Rating', 'Offensive_Rating', 'TS%', 'Simplified_PER']\n",
    "X = player_stats[features]\n",
    "y = player_stats['PTS']  # Target variable for points per game\n",
    "\n",
    "#Prepare the imputer and scaler\n",
    "imputer = SimpleImputer(strategy='mean')\n",
    "scaler = StandardScaler()\n",
    "\n",
    "#Impute and scale the training data\n",
    "X_imputed = imputer.fit_transform(X)  # Fit and transform imputer to the entire dataset\n",
    "X_scaled = scaler.fit_transform(X_imputed)  # Fit and scale the imputed data\n",
    "\n",
    "#Splitting the data for training and validation\n",
    "X_train, X_val, y_train, y_val = train_test_split(X_scaled, y, test_size=0.2, random_state=42)\n",
    "\n",
    "#Initialize and fit the Gradient Boosting model with best found parameters\n",
    "model = GradientBoostingRegressor(\n",
    "    n_estimators=200,\n",
    "    learning_rate=0.05,\n",
    "    max_depth=4,\n",
    "    min_samples_leaf=4,\n",
    "    min_samples_split=10,\n",
    "    random_state=42\n",
    ")\n",
    "model.fit(X_train, y_train)\n",
    "\n",
    "#Predict on validation set and calculate MSE\n",
    "y_pred_val = model.predict(X_val)\n",
    "val_mse = mean_squared_error(y_val, y_pred_val)\n",
    "print(\"Validation MSE:\", val_mse)\n",
    "\n",
    "#Prepare the test data from another DataFrame assuming it is the 2023 season data\n",
    "test_data = df[df['Season'] == 2023][features]\n",
    "test_data_imputed = imputer.transform(test_data)\n",
    "test_data_scaled = scaler.transform(test_data_imputed)\n",
    "y_test = df[df['Season'] == 2023]['PTS']\n",
    "\n",
    "#Predict on test data and calculate MSE\n",
    "y_test_pred = model.predict(test_data_scaled)\n",
    "test_mse = mean_squared_error(y_test, y_test_pred)\n",
    "print(\"Test MSE:\", test_mse)"
   ]
  },
  {
   "cell_type": "markdown",
   "id": "aadb4a40",
   "metadata": {},
   "source": [
    "# Example of model usage to predict avg PTS of season 2024-25"
   ]
  },
  {
   "cell_type": "code",
   "execution_count": null,
   "id": "2dc477a0",
   "metadata": {},
   "outputs": [],
   "source": [
    "tatum_data = player_stats[player_stats['Player'] == 'Jayson Tatum'][[\n",
    "    'Age', 'G', 'GS', 'MP', 'FG%', '3P%', '2P%', 'FT%', 'Defensive_Rating', \n",
    "    'Offensive_Rating', 'TS%', 'Simplified_PER'\n",
    "]]\n",
    "\n",
    "tatum_data_imputed = imputer.transform(tatum_data) \n",
    "tatum_data_scaled = scaler.transform(tatum_data_imputed)"
   ]
  },
  {
   "cell_type": "code",
   "execution_count": null,
   "id": "af8894f7",
   "metadata": {},
   "outputs": [],
   "source": [
    "tatum_pts_lr = lr_model.predict(tatum_data_scaled)\n",
    "print(\"Predicted PTS for Jayson Tatum in 2024-25 (Linear Regression):\", tatum_pts_lr[0])\n",
    "\n",
    "tatum_pts_gb = model.predict(tatum_data_scaled)\n",
    "print(\"Predicted PTS for Jayson Tatum in 2024-25 (Gradient Boosting):\", tatum_pts_gb[0])"
   ]
  },
  {
   "cell_type": "markdown",
   "id": "1e55d1d0",
   "metadata": {},
   "source": [
    "# Conclusion"
   ]
  },
  {
   "cell_type": "markdown",
   "id": "ea4e98f6",
   "metadata": {},
   "source": [
    "Across all the models tested, the 2 that stand out the most are Linear Regression and Gradient Boosting. With Linear Regression performing better suggests the relationships between the features (like player stats) and the target (points per game) are linear or close to linear. In future work I would like to predict a different feature other than PTS. \n",
    "\n",
    "Even though we preprocessed and handled data before we still had to deal with some missing values which is why we used SimpleImputer.\n",
    "\n",
    "In future work I would also like to explore more data to develop a model that is able to predict results of TeamA vs TeamB as accurately as possible, but this would require more data including, additional player statistics like minutes-per-game, and data of each individual matches."
   ]
  },
  {
   "cell_type": "code",
   "execution_count": null,
   "id": "6f2cc96f",
   "metadata": {},
   "outputs": [],
   "source": []
  }
 ],
 "metadata": {
  "kernelspec": {
   "display_name": "Python 3 (ipykernel)",
   "language": "python",
   "name": "python3"
  },
  "language_info": {
   "codemirror_mode": {
    "name": "ipython",
    "version": 3
   },
   "file_extension": ".py",
   "mimetype": "text/x-python",
   "name": "python",
   "nbconvert_exporter": "python",
   "pygments_lexer": "ipython3",
   "version": "3.11.7"
  }
 },
 "nbformat": 4,
 "nbformat_minor": 5
}
